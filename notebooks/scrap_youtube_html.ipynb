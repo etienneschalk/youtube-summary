{
 "cells": [
  {
   "cell_type": "markdown",
   "metadata": {},
   "source": [
    "# Scrap youtube HTML"
   ]
  },
  {
   "cell_type": "code",
   "execution_count": null,
   "metadata": {},
   "outputs": [],
   "source": [
    "from pathlib import Path\n",
    "from ai_xp.scrapper import YouTubeHtmlScrapper\n",
    "\n"
   ]
  },
  {
   "cell_type": "code",
   "execution_count": null,
   "metadata": {},
   "outputs": [],
   "source": [
    "path = Path(\"/home/tselano/dev/ai-xp/resources/examples/example_youtube_html_2.html\")\n",
    "\n",
    "scrapper = YouTubeHtmlScrapper.from_path(path)\n",
    "print(scrapper.title())\n",
    "print()\n",
    "print(scrapper.short_description(mode=\"regex\"))"
   ]
  },
  {
   "cell_type": "code",
   "execution_count": null,
   "metadata": {},
   "outputs": [],
   "source": [
    "url = \"https://www.youtube.com/watch?v=l1VSCbOQRBw\"\n",
    "\n",
    "scrapper = YouTubeHtmlScrapper.from_url(url)\n",
    "print(scrapper.title())\n",
    "print()\n",
    "print(scrapper.short_description(mode=\"regex\"))"
   ]
  },
  {
   "cell_type": "code",
   "execution_count": null,
   "metadata": {},
   "outputs": [],
   "source": [
    "print(scrapper.short_description(mode=\"json\"))"
   ]
  }
 ],
 "metadata": {
  "kernelspec": {
   "display_name": "ai-xp-QtXkVPyw-py3.13",
   "language": "python",
   "name": "python3"
  },
  "language_info": {
   "codemirror_mode": {
    "name": "ipython",
    "version": 3
   },
   "file_extension": ".py",
   "mimetype": "text/x-python",
   "name": "python",
   "nbconvert_exporter": "python",
   "pygments_lexer": "ipython3",
   "version": "3.13.2"
  }
 },
 "nbformat": 4,
 "nbformat_minor": 2
}
