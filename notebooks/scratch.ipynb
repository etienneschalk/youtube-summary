{
 "cells": [
  {
   "cell_type": "code",
   "execution_count": null,
   "metadata": {},
   "outputs": [
    {
     "name": "stdout",
     "output_type": "stream",
     "text": [
      "Hello This is a tringwith special chars 123\n"
     ]
    },
    {
     "data": {
      "text/plain": [
       "'hello-this-is-a-tringwith-special-chars-123'"
      ]
     },
     "execution_count": 7,
     "metadata": {},
     "output_type": "execute_result"
    }
   ],
   "source": [
    "import re\n",
    "\n",
    "\n",
    "def sanitize_string(input_string: str) -> str:\n",
    "    # Remove non-alphanumeric characters except spaces\n",
    "    sanitized = re.sub(r\"[^a-zA-Z0-9\\s]\", \"\", input_string)\n",
    "\n",
    "    # Replace multiple spaces with a single space and trim\n",
    "    sanitized = re.sub(r\"\\s+\", \" \", sanitized).strip()\n",
    "\n",
    "    return sanitized\n",
    "\n",
    "\n",
    "def train_case_string(input_string: str) -> str:\n",
    "    clean_string = sanitize_string(input_string)\n",
    "    return clean_string.lower().replace(\" \", \"-\")\n",
    "\n",
    "\n",
    "# Example usage\n",
    "dirty_string = \"Hello! This is a $tring_with% (special) chars: 123#_@\"\n",
    "clean_string = sanitize_string(dirty_string)\n",
    "print(clean_string)  # Output: \"Hello This is a tring with special chars 123\"\n",
    "train_case_string(dirty_string)"
   ]
  }
 ],
 "metadata": {
  "kernelspec": {
   "display_name": "ai-xp-QtXkVPyw-py3.13",
   "language": "python",
   "name": "python3"
  },
  "language_info": {
   "codemirror_mode": {
    "name": "ipython",
    "version": 3
   },
   "file_extension": ".py",
   "mimetype": "text/x-python",
   "name": "python",
   "nbconvert_exporter": "python",
   "pygments_lexer": "ipython3",
   "version": "3.13.2"
  }
 },
 "nbformat": 4,
 "nbformat_minor": 2
}
