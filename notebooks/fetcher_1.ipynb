{
 "cells": [
  {
   "cell_type": "markdown",
   "metadata": {},
   "source": [
    "# Fetch Data to fill the File Database\n"
   ]
  },
  {
   "cell_type": "markdown",
   "metadata": {},
   "source": [
    "## Initialization"
   ]
  },
  {
   "cell_type": "code",
   "execution_count": null,
   "metadata": {},
   "outputs": [],
   "source": [
    "from pathlib import Path\n",
    "\n",
    "from ai_xp.database import FileDatabase\n",
    "\n",
    "inputs_lookup_dir_path = Path(\"../inputs\").resolve()\n",
    "outputs_lookup_dir_path = Path(\"../generated\").resolve()\n",
    "\n",
    "db = FileDatabase.from_paths(inputs_lookup_dir_path, outputs_lookup_dir_path)\n",
    "db"
   ]
  },
  {
   "cell_type": "markdown",
   "metadata": {},
   "source": [
    "## Run"
   ]
  },
  {
   "cell_type": "markdown",
   "metadata": {},
   "source": [
    "### WRITE: Fetch Transcripts"
   ]
  },
  {
   "cell_type": "code",
   "execution_count": null,
   "metadata": {},
   "outputs": [],
   "source": [
    "# TODO eschalk Candidate for pipeline input -> transcript\n",
    "# TODO eschalk Candidate for pipeline input -> transcript\n",
    "# XXX extremely inefficient, but ensure freshest view on the filesystem\n",
    "# TO be integrated in a pipeline (outside of notebook)\n",
    "DO_FETCH_TRANSCRIPTS = True\n",
    "if DO_FETCH_TRANSCRIPTS:\n",
    "    db = db.refresh()\n",
    "    db.fetch_missing_transcripts()\n"
   ]
  },
  {
   "cell_type": "markdown",
   "metadata": {},
   "source": [
    "### WRITE: Fetch Metadata"
   ]
  },
  {
   "cell_type": "code",
   "execution_count": null,
   "metadata": {},
   "outputs": [],
   "source": [
    "# TODO eschalk Candidate for pipeline input -> transcript\n",
    "# XXX extremely inefficient, but ensure freshest view on the filesystem\n",
    "# TO be integrated in a pipeline (outside of notebook)\n",
    "DO_FETCH_METADATA = True\n",
    "if DO_FETCH_METADATA:\n",
    "    db = db.refresh()\n",
    "    db.fetch_missing_metadata()\n"
   ]
  },
  {
   "cell_type": "markdown",
   "metadata": {},
   "source": [
    "### WRITE: Summarize with AI\n"
   ]
  },
  {
   "cell_type": "code",
   "execution_count": null,
   "metadata": {},
   "outputs": [],
   "source": [
    "from ai_xp.llm_proxy import OpenRouterAiProxy\n",
    "\n",
    "\n",
    "proxy = OpenRouterAiProxy.instantiate_with_default_key()\n",
    "resp = proxy.check_if_i_can_still_use_the_service()\n",
    "print(resp)\n",
    "print(resp[\"\"])"
   ]
  },
  {
   "cell_type": "code",
   "execution_count": null,
   "metadata": {},
   "outputs": [],
   "source": [
    "db.fetch_missing_llm_outputs()\n"
   ]
  }
 ],
 "metadata": {
  "kernelspec": {
   "display_name": "ai-xp-QtXkVPyw-py3.13",
   "language": "python",
   "name": "python3"
  },
  "language_info": {
   "codemirror_mode": {
    "name": "ipython",
    "version": 3
   },
   "file_extension": ".py",
   "mimetype": "text/x-python",
   "name": "python",
   "nbconvert_exporter": "python",
   "pygments_lexer": "ipython3",
   "version": "3.13.2"
  }
 },
 "nbformat": 4,
 "nbformat_minor": 2
}
