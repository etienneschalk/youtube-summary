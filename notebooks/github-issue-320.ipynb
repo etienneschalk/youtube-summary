{
 "cells": [
  {
   "cell_type": "code",
   "execution_count": null,
   "metadata": {},
   "outputs": [],
   "source": [
    "from ai_xp.transcript import get_youtube_transcript_internal\n",
    "\n",
    "\n",
    "video_id = \"EMkDbF6gxm8\"\n",
    "get_youtube_transcript_internal(video_id, (\"fr\", \"en\")).fetch()"
   ]
  }
 ],
 "metadata": {
  "kernelspec": {
   "display_name": "ai-xp-QtXkVPyw-py3.13",
   "language": "python",
   "name": "python3"
  },
  "language_info": {
   "codemirror_mode": {
    "name": "ipython",
    "version": 3
   },
   "file_extension": ".py",
   "mimetype": "text/x-python",
   "name": "python",
   "nbconvert_exporter": "python",
   "pygments_lexer": "ipython3",
   "version": "3.13.2"
  }
 },
 "nbformat": 4,
 "nbformat_minor": 2
}
