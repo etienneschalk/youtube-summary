{
 "cells": [
  {
   "cell_type": "code",
   "execution_count": null,
   "metadata": {},
   "outputs": [],
   "source": [
    "from pathlib import Path\n",
    "\n",
    "from ai_xp.database import FileDatabase\n",
    "\n",
    "inputs_lookup_dir_path = Path(\"../inputs\").resolve()\n",
    "outputs_lookup_dir_path = Path(\"../generated\").resolve()\n",
    "\n",
    "db = FileDatabase.from_paths(inputs_lookup_dir_path, outputs_lookup_dir_path)\n",
    "db\n"
   ]
  },
  {
   "cell_type": "code",
   "execution_count": null,
   "metadata": {},
   "outputs": [],
   "source": [
    "db.transcript_dataframe.query(\"status == 'success'\")"
   ]
  },
  {
   "cell_type": "code",
   "execution_count": null,
   "metadata": {},
   "outputs": [],
   "source": [
    "import pandas as pd\n",
    "from ai_xp.utils import load_json\n",
    "\n",
    "\n",
    "word_counts = {\n",
    "    transcript_output_file_path: sum(\n",
    "        len(line[\"text\"].split())\n",
    "        for line in load_json(transcript_output_file_path)[\"snippets\"]\n",
    "    )\n",
    "    for transcript_output_file_path in db.transcript_dataframe.drop((\"_\", \"_\"))\n",
    "    .query(\"status == 'success'\")[\"path\"]\n",
    "    .to_list()\n",
    "}\n",
    "word_counts"
   ]
  },
  {
   "cell_type": "code",
   "execution_count": null,
   "metadata": {},
   "outputs": [],
   "source": [
    "df = pd.DataFrame.from_dict(word_counts, orient=\"index\",columns=[\"word_count\"])\n",
    "df"
   ]
  },
  {
   "cell_type": "markdown",
   "metadata": {},
   "source": [
    "See pricing in https://openai.com/api/pricing/\n",
    "\n",
    "```raw\n",
    "GPT-4.1 nano\n",
    "\n",
    "Fastest, most cost-effective model for low-latency tasks\n",
    "Pricing\n",
    "Input:\n",
    "$0.100 / 1M tokens\n",
    "Cached input:\n",
    "$0.025 / 1M tokens\n",
    "Output:\n",
    "$0.400 / 1M tokens\n",
    "```\n",
    "\n",
    "What are tokens and how to count them?\n",
    "\n",
    "https://help.openai.com/en/articles/4936856-what-are-tokens-and-how-to-count-them\n",
    "\n",
    "100 tokens ~= 75 words\n"
   ]
  },
  {
   "cell_type": "code",
   "execution_count": null,
   "metadata": {},
   "outputs": [],
   "source": [
    "import locale\n",
    "\n",
    "\n",
    "locale.setlocale(locale.LC_NUMERIC, \"fr_FR\")\n",
    "locale.setlocale(locale.LC_ALL, \"fr_FR\")\n",
    "print(\n",
    "    f\"Total du nombre de mots de tous les transcripts disponibles : {df.sum().item():n}\"\n",
    ")\n",
    "print(f\"Nombre de mots moyen par transcript: {int(df.mean().item()):n}\")\n",
    "print(f\"Nombre total de videos à traiter: {len(db.input_dataframe):n}\")\n",
    "\n",
    "estimated_total_input_word_count = int(df.mean().item() * len(db.input_dataframe))\n",
    "print(\n",
    "    f\"Extrapolation du total de nombre de mots à traiter: {estimated_total_input_word_count:n}\"\n",
    ")\n",
    "\n",
    "\n",
    "word_to_token_factor = 100/75\n",
    "\n",
    "estimated_total_input_token_count = int(estimated_total_input_word_count * word_to_token_factor)\n",
    "print(f\"Nombre attendu de d'input tokens: {estimated_total_input_token_count:n}\")\n",
    "\n",
    "estimated_mean_output_word_count = 300\n",
    "estimated_total_output_word_count = estimated_mean_output_word_count * len(db.input_dataframe)\n",
    "estimated_total_output_token_count = int(estimated_total_output_word_count * word_to_token_factor)\n",
    "print(f\"Nombre attendu d'output tokens: {estimated_total_output_token_count:n}\")\n",
    "\n",
    "# OpenAI o3\n",
    "# price_per_input_tokens = 10 / 1_000_000\n",
    "# price_per_output_tokens = 40 / 1_000_000\n",
    "\n",
    "# GPT-4.1 nano\n",
    "price_per_input_tokens = 0.1 / 1_000_000\n",
    "price_per_output_tokens = 0.4 / 1_000_000\n",
    "\n",
    "estimated_input_price = (estimated_total_input_token_count * price_per_input_tokens)\n",
    "estimated_output_price = (\n",
    "    estimated_total_output_token_count * price_per_output_tokens\n",
    ")\n",
    "print(f\"{estimated_input_price=:.2f} $\")\n",
    "print(f\"{estimated_output_price=:.2f} $\")\n",
    "estimated_total_price = estimated_input_price + estimated_output_price\n",
    "print(f\"{estimated_total_price=:.2f} $\")\n"
   ]
  },
  {
   "cell_type": "code",
   "execution_count": null,
   "metadata": {},
   "outputs": [],
   "source": [
    "len(db.input_dataframe)"
   ]
  }
 ],
 "metadata": {
  "kernelspec": {
   "display_name": "ai-xp-QtXkVPyw-py3.13",
   "language": "python",
   "name": "python3"
  },
  "language_info": {
   "codemirror_mode": {
    "name": "ipython",
    "version": 3
   },
   "file_extension": ".py",
   "mimetype": "text/x-python",
   "name": "python",
   "nbconvert_exporter": "python",
   "pygments_lexer": "ipython3",
   "version": "3.13.2"
  }
 },
 "nbformat": 4,
 "nbformat_minor": 2
}
